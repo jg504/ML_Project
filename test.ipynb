{
 "metadata": {
  "language_info": {
   "codemirror_mode": {
    "name": "ipython",
    "version": 3
   },
   "file_extension": ".py",
   "mimetype": "text/x-python",
   "name": "python",
   "nbconvert_exporter": "python",
   "pygments_lexer": "ipython3",
   "version": "3.6.3-final"
  },
  "orig_nbformat": 2,
  "kernelspec": {
   "name": "python3",
   "display_name": "Python 3"
  }
 },
 "nbformat": 4,
 "nbformat_minor": 2,
 "cells": [
  {
   "source": [
    "# ML Nautanki"
   ],
   "cell_type": "markdown",
   "metadata": {}
  },
  {
   "cell_type": "code",
   "execution_count": 1,
   "metadata": {},
   "outputs": [],
   "source": [
    "from pandas import read_csv, DataFrame\n",
    "from random import randint"
   ]
  },
  {
   "cell_type": "code",
   "execution_count": 2,
   "metadata": {},
   "outputs": [
    {
     "output_type": "execute_result",
     "data": {
      "text/plain": [
       "   ID    Cuisine         Dish  Rating  Value\n",
       "0  71    Dessert     Rasgulla       4     26\n",
       "1  50    Dessert  Gulab Jamun       5     25\n",
       "2  72  Fast Food       Subway       2     28\n",
       "3  64     Indian  Butter Naan       0      3\n",
       "4  40    Mughlai        Kebab       3     13"
      ],
      "text/html": "<div>\n<style scoped>\n    .dataframe tbody tr th:only-of-type {\n        vertical-align: middle;\n    }\n\n    .dataframe tbody tr th {\n        vertical-align: top;\n    }\n\n    .dataframe thead th {\n        text-align: right;\n    }\n</style>\n<table border=\"1\" class=\"dataframe\">\n  <thead>\n    <tr style=\"text-align: right;\">\n      <th></th>\n      <th>ID</th>\n      <th>Cuisine</th>\n      <th>Dish</th>\n      <th>Rating</th>\n      <th>Value</th>\n    </tr>\n  </thead>\n  <tbody>\n    <tr>\n      <td>0</td>\n      <td>71</td>\n      <td>Dessert</td>\n      <td>Rasgulla</td>\n      <td>4</td>\n      <td>26</td>\n    </tr>\n    <tr>\n      <td>1</td>\n      <td>50</td>\n      <td>Dessert</td>\n      <td>Gulab Jamun</td>\n      <td>5</td>\n      <td>25</td>\n    </tr>\n    <tr>\n      <td>2</td>\n      <td>72</td>\n      <td>Fast Food</td>\n      <td>Subway</td>\n      <td>2</td>\n      <td>28</td>\n    </tr>\n    <tr>\n      <td>3</td>\n      <td>64</td>\n      <td>Indian</td>\n      <td>Butter Naan</td>\n      <td>0</td>\n      <td>3</td>\n    </tr>\n    <tr>\n      <td>4</td>\n      <td>40</td>\n      <td>Mughlai</td>\n      <td>Kebab</td>\n      <td>3</td>\n      <td>13</td>\n    </tr>\n  </tbody>\n</table>\n</div>"
     },
     "metadata": {},
     "execution_count": 2
    }
   ],
   "source": [
    "data = DataFrame(read_csv(r'Data.csv'))\n",
    "data.head()"
   ]
  },
  {
   "cell_type": "code",
   "execution_count": 3,
   "metadata": {},
   "outputs": [],
   "source": [
    "def maxEaten(ID, data):\n",
    "    return data['Dish'][data['ID'] == ID].value_counts().idxmax()"
   ]
  },
  {
   "cell_type": "code",
   "execution_count": 4,
   "metadata": {},
   "outputs": [],
   "source": [
    "def collaborativeFiltering(ID, data):\n",
    "    dishes = data['Dish'][data['ID'] == ID].unique()\n",
    "\n",
    "    IDs = list()\n",
    "\n",
    "    for i in data['ID'].unique():\n",
    "        if set(dishes).issubset(set(data['Dish'][data['ID'] == i].unique())):\n",
    "            IDs.append(i)\n",
    "\n",
    "    newData = data[data['ID'].isin(IDs)]\n",
    "\n",
    "    newDishes = newData['Dish'][-newData['Dish'].isin(dishes)].unique()\n",
    "\n",
    "    return newData['Dish'][newData['Dish'].isin(newDishes)][newData['ID'].isin(IDs)].value_counts().idxmax()"
   ]
  },
  {
   "cell_type": "code",
   "execution_count": 5,
   "metadata": {},
   "outputs": [],
   "source": [
    "def valueBased(ID, data):\n",
    "    sumValue = sum(data['Value'][data['ID'] == ID])\n",
    "\n",
    "    length = len(data['Value'][data['ID'] == ID])\n",
    "\n",
    "    roundedValue = round(sumValue / length)\n",
    "\n",
    "    return data['Dish'][data['Value'] == roundedValue].head(1).item()"
   ]
  },
  {
   "cell_type": "code",
   "execution_count": 6,
   "metadata": {},
   "outputs": [],
   "source": [
    "def main(ID, data):\n",
    "    print(\"Recommendation based on maximum number of dishes eaten: \", maxEaten(ID, data))\n",
    "    print(\"\\nRecommendation based on collaborative filtering: \", collaborativeFiltering(ID, data))\n",
    "    print(\"\\nRecommendation based on distance of values: \", valueBased(ID, data))"
   ]
  },
  {
   "cell_type": "code",
   "execution_count": 7,
   "metadata": {},
   "outputs": [
    {
     "output_type": "stream",
     "name": "stdout",
     "text": [
      "Recommendation based on maximum number of dishes eaten:  Idli Sambhar\n\nRecommendation based on collaborative filtering:  Rice Bowl\n\nRecommendation based on distance of values:  Chilli Potato\n"
     ]
    }
   ],
   "source": [
    "main(int(input()), data)"
   ]
  }
 ]
}