{
 "cells": [
  {
   "cell_type": "markdown",
   "metadata": {},
   "source": [
    "# Food Recommendation System"
   ]
  },
  {
   "cell_type": "markdown",
   "metadata": {},
   "source": [
    "### CSD 311 Introduction to Machine Learning \n",
    "\n",
    "###### Made By \n",
    "##### Jaskaran Singh Gujral (1810110091)\n",
    "##### Namrata Raina (1810110138)\n",
    "##### S Sanjeeth Chandhira Rajeshwaran (1810110195)\n",
    "##### Nikhil Khandelwal (1810110293)"
   ]
  },
  {
   "cell_type": "markdown",
   "metadata": {},
   "source": [
    "### Importing necessary libraries"
   ]
  },
  {
   "cell_type": "code",
   "execution_count": 1,
   "metadata": {},
   "outputs": [],
   "source": [
    "from pandas import read_csv"
   ]
  },
  {
   "cell_type": "markdown",
   "metadata": {},
   "source": [
    "### Reading the data from the CSV file into a DataFrame "
   ]
  },
  {
   "cell_type": "markdown",
   "metadata": {},
   "source": [
    "###### It should be noted here that the dataset has been created by us ourselves but that particular code has been excluded from this Jupyter Notebook since it is not part of the problem statement."
   ]
  },
  {
   "cell_type": "code",
   "execution_count": 2,
   "metadata": {},
   "outputs": [
    {
     "data": {
      "text/html": [
       "<div>\n",
       "<style scoped>\n",
       "    .dataframe tbody tr th:only-of-type {\n",
       "        vertical-align: middle;\n",
       "    }\n",
       "\n",
       "    .dataframe tbody tr th {\n",
       "        vertical-align: top;\n",
       "    }\n",
       "\n",
       "    .dataframe thead th {\n",
       "        text-align: right;\n",
       "    }\n",
       "</style>\n",
       "<table border=\"1\" class=\"dataframe\">\n",
       "  <thead>\n",
       "    <tr style=\"text-align: right;\">\n",
       "      <th></th>\n",
       "      <th>ID</th>\n",
       "      <th>Cuisine</th>\n",
       "      <th>Dish</th>\n",
       "      <th>Rating</th>\n",
       "      <th>Value</th>\n",
       "    </tr>\n",
       "  </thead>\n",
       "  <tbody>\n",
       "    <tr>\n",
       "      <td>0</td>\n",
       "      <td>71</td>\n",
       "      <td>Dessert</td>\n",
       "      <td>Rasgulla</td>\n",
       "      <td>4</td>\n",
       "      <td>26</td>\n",
       "    </tr>\n",
       "    <tr>\n",
       "      <td>1</td>\n",
       "      <td>50</td>\n",
       "      <td>Dessert</td>\n",
       "      <td>Gulab Jamun</td>\n",
       "      <td>5</td>\n",
       "      <td>25</td>\n",
       "    </tr>\n",
       "    <tr>\n",
       "      <td>2</td>\n",
       "      <td>72</td>\n",
       "      <td>Fast Food</td>\n",
       "      <td>Subway</td>\n",
       "      <td>2</td>\n",
       "      <td>28</td>\n",
       "    </tr>\n",
       "    <tr>\n",
       "      <td>3</td>\n",
       "      <td>64</td>\n",
       "      <td>Indian</td>\n",
       "      <td>Butter Naan</td>\n",
       "      <td>0</td>\n",
       "      <td>3</td>\n",
       "    </tr>\n",
       "    <tr>\n",
       "      <td>4</td>\n",
       "      <td>40</td>\n",
       "      <td>Mughlai</td>\n",
       "      <td>Kebab</td>\n",
       "      <td>3</td>\n",
       "      <td>13</td>\n",
       "    </tr>\n",
       "  </tbody>\n",
       "</table>\n",
       "</div>"
      ],
      "text/plain": [
       "   ID    Cuisine         Dish  Rating  Value\n",
       "0  71    Dessert     Rasgulla       4     26\n",
       "1  50    Dessert  Gulab Jamun       5     25\n",
       "2  72  Fast Food       Subway       2     28\n",
       "3  64     Indian  Butter Naan       0      3\n",
       "4  40    Mughlai        Kebab       3     13"
      ]
     },
     "execution_count": 2,
     "metadata": {},
     "output_type": "execute_result"
    }
   ],
   "source": [
    "data = read_csv(r'Data.csv')\n",
    "data.head()"
   ]
  },
  {
   "cell_type": "markdown",
   "metadata": {},
   "source": [
    "#### The simplest algorithm to recommend a food item based on history is to recommend the item purchased the maximum number of times by the concerned user. The below function returns the same."
   ]
  },
  {
   "cell_type": "code",
   "execution_count": 3,
   "metadata": {},
   "outputs": [],
   "source": [
    "def maxEaten(ID, data):\n",
    "    data = data['Dish'][data['ID'] == ID]\n",
    "    data = data.value_counts()\n",
    "    data = data.idxmax()\n",
    "    \n",
    "    return data"
   ]
  },
  {
   "cell_type": "markdown",
   "metadata": {},
   "source": [
    "#### One of the most widely used techniques for recommendation systems is Collaborative Filtering. In this, the algorithm takes into account the similarity between users, and recommends the food item that is ordered by the majority of the users whose eating habits are similar to the concerned user."
   ]
  },
  {
   "cell_type": "code",
   "execution_count": 4,
   "metadata": {},
   "outputs": [],
   "source": [
    "def collaborativeFiltering(ID, data):\n",
    "    dishes = data['Dish'][data['ID'] == ID].unique()\n",
    "\n",
    "    IDs = list()\n",
    "\n",
    "    for i in data['ID'].unique():\n",
    "        if set(dishes).issubset(set(data['Dish'][data['ID'] == i].unique())):\n",
    "            IDs.append(i)\n",
    "\n",
    "    newData = data[data['ID'].isin(IDs)]\n",
    "\n",
    "    newDishes = newData['Dish'][-newData['Dish'].isin(dishes)].unique()\n",
    "\n",
    "    return newData['Dish'][newData['Dish'].isin(newDishes)][newData['ID'].isin(IDs)].value_counts().idxmax()"
   ]
  },
  {
   "cell_type": "markdown",
   "metadata": {},
   "source": [
    "#### The below algorithm could be called a modified version of KNN. Since it is not in the scope of the project to add the actual recipes on which KNN could be applied, we have added values to each dish based on our knowledge of the recipes. Closer the recipes of each dish, the closer is the value given. Based on these values, an average is taken of the dishes ordered previously by the concerned user. The dish which has the closest value is then recommended to the user."
   ]
  },
  {
   "cell_type": "code",
   "execution_count": 5,
   "metadata": {},
   "outputs": [],
   "source": [
    "def valueBased(ID, data):\n",
    "    sumValue = sum(data['Value'][data['ID'] == ID])\n",
    "\n",
    "    length = len(data['Value'][data['ID'] == ID])\n",
    "\n",
    "    roundedValue = round(sumValue / length)\n",
    "\n",
    "    return data['Dish'][data['Value'] == roundedValue].head(1).item()"
   ]
  },
  {
   "cell_type": "markdown",
   "metadata": {},
   "source": [
    "#### One of the most popular techniques used to recommend anything is based on popularity of the item. However, this method is not personalized to the user. In our case, we have created an algorithm which is somewhat personalized because it takes into account the cuisine that is preferred by the concerned user. Based on this, it recommends the most popular dish in that cuisine segment."
   ]
  },
  {
   "cell_type": "code",
   "execution_count": 6,
   "metadata": {},
   "outputs": [],
   "source": [
    "def popularityBased(ID, data):\n",
    "    cuisine = data['Cuisine'][data['ID'] == ID]\n",
    "    cuisine = cuisine.value_counts()\n",
    "    cuisine = cuisine.idxmax()\n",
    "\n",
    "    dish = data[data['Cuisine'] == cuisine]\n",
    "    dish = dish.groupby('Dish', as_index = False)\n",
    "    dish = dish['Rating'].mean()\n",
    "    dish = dish.sort_values('Rating', ascending = False)\n",
    "    dish = dish.reset_index(drop = True)\n",
    "\n",
    "    return dish['Dish'].head(1).item()"
   ]
  },
  {
   "cell_type": "markdown",
   "metadata": {},
   "source": [
    "#### The last approach is based on rating given by the user to each dish he has ordered previously. This approach takes into account the dish which has the highest average rating by the user. Then it looks for users who have given a similar rating to that dish. From the set of these users, it is then found out which dish has the highest average rating. That dish is recommended to the user."
   ]
  },
  {
   "cell_type": "code",
   "execution_count": 7,
   "metadata": {},
   "outputs": [],
   "source": [
    "def ratingBased(ID, data):\n",
    "    dish = data[data['ID'] == ID]\n",
    "    dish = dish.groupby('Dish', as_index = False)\n",
    "    dish = dish['Rating'].mean()\n",
    "    dish = dish.sort_values('Rating', ascending = False)\n",
    "    dish = dish.reset_index(drop = True)\n",
    "\n",
    "    rating = dish['Rating'].head(1).item()\n",
    "    dish = dish['Dish'].head(1).item()\n",
    "\n",
    "    IDs = data['ID'][data['Dish'] == dish][data['Rating'] >= rating - 1][data['Rating'] <= rating + 1]\n",
    "\n",
    "    newData = data[data['ID'].isin(IDs)]\n",
    "    newData = newData.groupby('Dish', as_index = False)\n",
    "    newData = newData['Rating'].mean()\n",
    "    newData = newData.sort_values('Rating', ascending = False)\n",
    "    newData = newData.reset_index(drop = True)\n",
    "\n",
    "    return newData['Dish'].head(1).item()"
   ]
  },
  {
   "cell_type": "markdown",
   "metadata": {},
   "source": [
    "### The main function is used to combine all of the methods given above."
   ]
  },
  {
   "cell_type": "code",
   "execution_count": 8,
   "metadata": {},
   "outputs": [],
   "source": [
    "def main(ID, data):\n",
    "    print(\"Recommendation based on maximum number of dishes eaten: \", maxEaten(ID, data))\n",
    "    print(\"\\nRecommendation based on collaborative filtering: \", collaborativeFiltering(ID, data))\n",
    "    print(\"\\nRecommendation based on distance of values: \", valueBased(ID, data))\n",
    "    print(\"\\nRecommendation based on popularity: \", popularityBased(ID, data))\n",
    "    print(\"\\nRecommendation based on rating: \", ratingBased(ID, data))"
   ]
  },
  {
   "cell_type": "markdown",
   "metadata": {},
   "source": [
    "### In the saved instance of the Jupter Notebook, the ID (input value) is taken as 13."
   ]
  },
  {
   "cell_type": "code",
   "execution_count": 9,
   "metadata": {},
   "outputs": [
    {
     "name": "stdout",
     "output_type": "stream",
     "text": [
      "Recommendation based on maximum number of dishes eaten:  Cake\n",
      "\n",
      "Recommendation based on collaborative filtering:  Chowmein\n",
      "\n",
      "Recommendation based on distance of values:  Chowmein\n",
      "\n",
      "Recommendation based on popularity:  Gulab Jamun\n",
      "\n",
      "Recommendation based on rating:  Sambhar Vada\n"
     ]
    }
   ],
   "source": [
    "main(int(input()), data)"
   ]
  }
 ],
 "metadata": {
  "kernelspec": {
   "display_name": "Python 3",
   "language": "python",
   "name": "python3"
  },
  "language_info": {
   "codemirror_mode": {
    "name": "ipython",
    "version": 3
   },
   "file_extension": ".py",
   "mimetype": "text/x-python",
   "name": "python",
   "nbconvert_exporter": "python",
   "pygments_lexer": "ipython3",
   "version": "3.6.3"
  }
 },
 "nbformat": 4,
 "nbformat_minor": 2
}
