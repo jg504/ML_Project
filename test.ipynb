{
 "metadata": {
  "language_info": {
   "codemirror_mode": {
    "name": "ipython",
    "version": 3
   },
   "file_extension": ".py",
   "mimetype": "text/x-python",
   "name": "python",
   "nbconvert_exporter": "python",
   "pygments_lexer": "ipython3",
   "version": "3.6.3-final"
  },
  "orig_nbformat": 2,
  "kernelspec": {
   "name": "python3",
   "display_name": "Python 3"
  }
 },
 "nbformat": 4,
 "nbformat_minor": 2,
 "cells": [
  {
   "source": [
    "# ML Nautanki"
   ],
   "cell_type": "markdown",
   "metadata": {}
  },
  {
   "cell_type": "code",
   "execution_count": 1,
   "metadata": {},
   "outputs": [],
   "source": [
    "from pandas import read_csv, DataFrame"
   ]
  },
  {
   "cell_type": "code",
   "execution_count": 2,
   "metadata": {},
   "outputs": [
    {
     "output_type": "execute_result",
     "data": {
      "text/plain": [
       "      ID       Cuisine          Dish\n",
       "0     71       Dessert      Rasgulla\n",
       "1     50       Dessert   Gulab Jamun\n",
       "2     72     Fast Food        Subway\n",
       "3     64        Indian   Butter Naan\n",
       "4     40       Mughlai         Kebab\n",
       "...   ..           ...           ...\n",
       "9995  86        Indian  Palak Paneer\n",
       "9996   3  South Indian  Idli Sambhar\n",
       "9997  14  South Indian  Idli Sambhar\n",
       "9998  47         Thai     Thai Curry\n",
       "9999  96     Fast Food      Vada Pav\n",
       "\n",
       "[10000 rows x 3 columns]"
      ],
      "text/html": "<div>\n<style scoped>\n    .dataframe tbody tr th:only-of-type {\n        vertical-align: middle;\n    }\n\n    .dataframe tbody tr th {\n        vertical-align: top;\n    }\n\n    .dataframe thead th {\n        text-align: right;\n    }\n</style>\n<table border=\"1\" class=\"dataframe\">\n  <thead>\n    <tr style=\"text-align: right;\">\n      <th></th>\n      <th>ID</th>\n      <th>Cuisine</th>\n      <th>Dish</th>\n    </tr>\n  </thead>\n  <tbody>\n    <tr>\n      <td>0</td>\n      <td>71</td>\n      <td>Dessert</td>\n      <td>Rasgulla</td>\n    </tr>\n    <tr>\n      <td>1</td>\n      <td>50</td>\n      <td>Dessert</td>\n      <td>Gulab Jamun</td>\n    </tr>\n    <tr>\n      <td>2</td>\n      <td>72</td>\n      <td>Fast Food</td>\n      <td>Subway</td>\n    </tr>\n    <tr>\n      <td>3</td>\n      <td>64</td>\n      <td>Indian</td>\n      <td>Butter Naan</td>\n    </tr>\n    <tr>\n      <td>4</td>\n      <td>40</td>\n      <td>Mughlai</td>\n      <td>Kebab</td>\n    </tr>\n    <tr>\n      <td>...</td>\n      <td>...</td>\n      <td>...</td>\n      <td>...</td>\n    </tr>\n    <tr>\n      <td>9995</td>\n      <td>86</td>\n      <td>Indian</td>\n      <td>Palak Paneer</td>\n    </tr>\n    <tr>\n      <td>9996</td>\n      <td>3</td>\n      <td>South Indian</td>\n      <td>Idli Sambhar</td>\n    </tr>\n    <tr>\n      <td>9997</td>\n      <td>14</td>\n      <td>South Indian</td>\n      <td>Idli Sambhar</td>\n    </tr>\n    <tr>\n      <td>9998</td>\n      <td>47</td>\n      <td>Thai</td>\n      <td>Thai Curry</td>\n    </tr>\n    <tr>\n      <td>9999</td>\n      <td>96</td>\n      <td>Fast Food</td>\n      <td>Vada Pav</td>\n    </tr>\n  </tbody>\n</table>\n<p>10000 rows × 3 columns</p>\n</div>"
     },
     "metadata": {},
     "execution_count": 2
    }
   ],
   "source": [
    "data = DataFrame(read_csv(r'Data.csv'))\n",
    "data"
   ]
  },
  {
   "cell_type": "code",
   "execution_count": 3,
   "metadata": {},
   "outputs": [],
   "source": [
    "def maxEaten(ID, data):\n",
    "    return data['Dish'][data['ID'] == ID].value_counts().idxmax()"
   ]
  },
  {
   "cell_type": "code",
   "execution_count": 4,
   "metadata": {},
   "outputs": [
    {
     "output_type": "execute_result",
     "data": {
      "text/plain": [
       "'Strawberry Smoothie'"
      ]
     },
     "metadata": {},
     "execution_count": 4
    }
   ],
   "source": [
    "maxEaten(int(input()), data)"
   ]
  },
  {
   "cell_type": "code",
   "execution_count": 5,
   "metadata": {},
   "outputs": [],
   "source": [
    "def collaborative(ID, data):\n",
    "    dishes = data['Dish'][data['ID'] == ID].unique()\n",
    "\n",
    "    IDs = list()\n",
    "\n",
    "    for i in data['ID'].unique():\n",
    "        if set(dishes).issubset(set(data['Dish'][data['ID'] == i].unique())):\n",
    "            IDs.append(i)\n",
    "\n",
    "    newData = data[data['ID'].isin(IDs)]\n",
    "\n",
    "    newDishes = newData['Dish'][-newData['Dish'].isin(dishes)].unique()\n",
    "\n",
    "    return newData['Dish'][newData['Dish'].isin(newDishes)][newData['ID'].isin(IDs)].value_counts().idxmax()"
   ]
  },
  {
   "cell_type": "code",
   "execution_count": 6,
   "metadata": {},
   "outputs": [
    {
     "output_type": "execute_result",
     "data": {
      "text/plain": [
       "'Chole Bhature'"
      ]
     },
     "metadata": {},
     "execution_count": 6
    }
   ],
   "source": [
    "collaborative(int(input()), data)"
   ]
  }
 ]
}